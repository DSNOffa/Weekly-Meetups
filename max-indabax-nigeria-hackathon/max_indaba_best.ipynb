{
 "cells": [
  {
   "cell_type": "code",
   "execution_count": null,
   "metadata": {
    "colab": {
     "base_uri": "https://localhost:8080/"
    },
    "id": "Dvynz7TpxMib",
    "outputId": "be678d4e-6a28-4f6f-ee5d-7f270b13ebbd"
   },
   "outputs": [
    {
     "name": "stdout",
     "output_type": "stream",
     "text": [
      "Archive:  /content/max-indabax-nigeria-hackathon.zip\n",
      "  inflating: sample_submission.csv   \n",
      "  inflating: test.csv                \n",
      "  inflating: train.csv               \n"
     ]
    }
   ],
   "source": [
    "!unzip /content/max-indabax-nigeria-hackathon.zip"
   ]
  },
  {
   "cell_type": "code",
   "execution_count": null,
   "metadata": {
    "id": "FYc-zPyeHCR8"
   },
   "outputs": [],
   "source": [
    "import pandas as pd\n",
    "import numpy as np\n",
    "from zipfile import ZipFile\n",
    "from sklearn.model_selection import train_test_split\n",
    "from sklearn.linear_model import LogisticRegression\n",
    "from sklearn.metrics import log_loss\n",
    "from hyperopt import tpe,hp,fmin,STATUS_OK,Trials\n",
    "from hyperopt.pyll.base import scope\n",
    "from sklearn.experimental import enable_iterative_imputer \n",
    "from sklearn.impute import KNNImputer,IterativeImputer\n",
    "from sklearn.pipeline import Pipeline\n",
    "from sklearn.preprocessing import MinMaxScaler,StandardScaler,RobustScaler"
   ]
  },
  {
   "cell_type": "code",
   "execution_count": null,
   "metadata": {
    "colab": {
     "base_uri": "https://localhost:8080/"
    },
    "id": "4cWh5IKz3Nnf",
    "outputId": "c6fdc5ca-99ef-4083-9a9f-07fc36c5bf94"
   },
   "outputs": [
    {
     "name": "stdout",
     "output_type": "stream",
     "text": [
      "Looking in indexes: https://pypi.org/simple, https://us-python.pkg.dev/colab-wheels/public/simple/\n",
      "Requirement already satisfied: catboost in /usr/local/lib/python3.7/dist-packages (1.1)\n",
      "Requirement already satisfied: scipy in /usr/local/lib/python3.7/dist-packages (from catboost) (1.7.3)\n",
      "Requirement already satisfied: pandas>=0.24.0 in /usr/local/lib/python3.7/dist-packages (from catboost) (1.3.5)\n",
      "Requirement already satisfied: plotly in /usr/local/lib/python3.7/dist-packages (from catboost) (5.5.0)\n",
      "Requirement already satisfied: graphviz in /usr/local/lib/python3.7/dist-packages (from catboost) (0.10.1)\n",
      "Requirement already satisfied: six in /usr/local/lib/python3.7/dist-packages (from catboost) (1.15.0)\n",
      "Requirement already satisfied: matplotlib in /usr/local/lib/python3.7/dist-packages (from catboost) (3.2.2)\n",
      "Requirement already satisfied: numpy>=1.16.0 in /usr/local/lib/python3.7/dist-packages (from catboost) (1.21.6)\n",
      "Requirement already satisfied: pytz>=2017.3 in /usr/local/lib/python3.7/dist-packages (from pandas>=0.24.0->catboost) (2022.2.1)\n",
      "Requirement already satisfied: python-dateutil>=2.7.3 in /usr/local/lib/python3.7/dist-packages (from pandas>=0.24.0->catboost) (2.8.2)\n",
      "Requirement already satisfied: kiwisolver>=1.0.1 in /usr/local/lib/python3.7/dist-packages (from matplotlib->catboost) (1.4.4)\n",
      "Requirement already satisfied: cycler>=0.10 in /usr/local/lib/python3.7/dist-packages (from matplotlib->catboost) (0.11.0)\n",
      "Requirement already satisfied: pyparsing!=2.0.4,!=2.1.2,!=2.1.6,>=2.0.1 in /usr/local/lib/python3.7/dist-packages (from matplotlib->catboost) (3.0.9)\n",
      "Requirement already satisfied: typing-extensions in /usr/local/lib/python3.7/dist-packages (from kiwisolver>=1.0.1->matplotlib->catboost) (4.1.1)\n",
      "Requirement already satisfied: tenacity>=6.2.0 in /usr/local/lib/python3.7/dist-packages (from plotly->catboost) (8.0.1)\n"
     ]
    }
   ],
   "source": [
    "pip install catboost"
   ]
  },
  {
   "cell_type": "code",
   "execution_count": null,
   "metadata": {
    "id": "F4h42RkQILfw"
   },
   "outputs": [],
   "source": [
    "train=pd.read_csv(\"/content/train.csv\",index_col=0)\n",
    "test=pd.read_csv(\"/content/test.csv\",index_col=0)"
   ]
  },
  {
   "cell_type": "code",
   "execution_count": null,
   "metadata": {
    "id": "A_MQqCLNAMgo"
   },
   "outputs": [],
   "source": [
    "ind=test.index"
   ]
  },
  {
   "cell_type": "code",
   "execution_count": null,
   "metadata": {
    "id": "k7iQQLuzL-cb"
   },
   "outputs": [],
   "source": [
    "target=train[\"label\"]\n",
    "train.drop(\"label\", axis=1, inplace=True)"
   ]
  },
  {
   "cell_type": "code",
   "execution_count": null,
   "metadata": {
    "id": "2Wk8_pICP7-b"
   },
   "outputs": [],
   "source": [
    "tar=list(target.value_counts().index)"
   ]
  },
  {
   "cell_type": "code",
   "execution_count": null,
   "metadata": {
    "id": "aVm58jNMQIrE"
   },
   "outputs": [],
   "source": [
    "data=pd.concat([train,test])"
   ]
  },
  {
   "cell_type": "code",
   "execution_count": null,
   "metadata": {
    "id": "hjrNxFQCRZn7"
   },
   "outputs": [],
   "source": [
    "hashmap={}\n",
    "list_counts=[]\n",
    "for i in range(data.shape[0]):\n",
    "  date=data[\"date_time\"].iloc[i]\n",
    "  agent=data[\"subscriber_id\"].iloc[i]\n",
    "  if (date,agent) in hashmap:\n",
    "    list_counts.append(hashmap[(date,agent)]+1)\n",
    "    hashmap[(date,agent)]=hashmap[(date,agent)]+1\n",
    "  else:\n",
    "    list_counts.append(0)\n",
    "    hashmap[(date,agent)]=0"
   ]
  },
  {
   "cell_type": "code",
   "execution_count": null,
   "metadata": {
    "id": "cc8SJ4WBRwxS"
   },
   "outputs": [],
   "source": [
    "data[\"no_occurence_subs\"]=list_counts"
   ]
  },
  {
   "cell_type": "code",
   "execution_count": null,
   "metadata": {
    "id": "rrg7bSlfzyi4"
   },
   "outputs": [],
   "source": [
    "data[\"date_time_x\"]=pd.to_datetime(data[\"date_time\"])\n",
    "data[\"date_time_year\"]=data[\"date_time_x\"].dt.year\n",
    "data[\"date_time_day\"]=data[\"date_time_x\"].dt.day\n",
    "data[\"date_time_mnth\"]=data[\"date_time_x\"].dt.month\n",
    "data[\"agent_day\"]=data[\"date_time_day\"].astype(\"str\")+data[\"date_time_mnth\"].astype(\"str\")+data[\"date_time_year\"].astype(\"str\")+data[\"agent_id\"]\n",
    "data.drop([\"date_time_x\",\"date_time_day\"],axis=1,inplace=True)"
   ]
  },
  {
   "cell_type": "code",
   "execution_count": null,
   "metadata": {
    "id": "5BneG6GG8acN"
   },
   "outputs": [],
   "source": [
    "data[\"agent_day\"]=data[\"agent_day\"].map(data[\"agent_day\"].value_counts().to_dict())"
   ]
  },
  {
   "cell_type": "code",
   "execution_count": null,
   "metadata": {
    "id": "IQCrEA1ag-Ny"
   },
   "outputs": [],
   "source": [
    "cat_columns=[]\n",
    "for i in data.columns:\n",
    "  if data[i].dtype==\"object\":\n",
    "    data[i]=pd.factorize(data[i])[0]\n",
    "    cat_columns.append(i)"
   ]
  },
  {
   "cell_type": "code",
   "execution_count": null,
   "metadata": {
    "id": "8xYMj-wrigtF"
   },
   "outputs": [],
   "source": [
    "data=data.fillna(method=\"bfill\")"
   ]
  },
  {
   "cell_type": "code",
   "execution_count": null,
   "metadata": {
    "id": "f2KWsSuaiqKz"
   },
   "outputs": [],
   "source": [
    "train=data.iloc[:train.shape[0]]\n",
    "test=data.iloc[train.shape[0]:]"
   ]
  },
  {
   "cell_type": "code",
   "execution_count": null,
   "metadata": {
    "id": "U-SL0DCzkMjH"
   },
   "outputs": [],
   "source": [
    "X,val,y,y_val=train_test_split(train, target, test_size=0.2,random_state=0)"
   ]
  },
  {
   "cell_type": "code",
   "execution_count": null,
   "metadata": {
    "id": "545V_Zl93aJ_"
   },
   "outputs": [],
   "source": [
    "from catboost import CatBoostClassifier"
   ]
  },
  {
   "cell_type": "code",
   "execution_count": null,
   "metadata": {
    "id": "JN8sxyCa2Q_n"
   },
   "outputs": [],
   "source": [
    "model=CatBoostClassifier(random_state=0,use_best_model=True,verbose=50,n_estimators=1000,early_stopping_rounds=50,cat_features=cat_columns)#,auto_class_weights=\"Balanced\")"
   ]
  },
  {
   "cell_type": "code",
   "execution_count": null,
   "metadata": {
    "colab": {
     "base_uri": "https://localhost:8080/"
    },
    "id": "do4TofHZmO0M",
    "outputId": "4b2f29d9-993d-4299-bdd3-bd78ed1565e6"
   },
   "outputs": [
    {
     "name": "stdout",
     "output_type": "stream",
     "text": [
      "Learning rate set to 0.5\n",
      "0:\tlearn: 1.7981972\ttest: 1.7922142\tbest: 1.7922142 (0)\ttotal: 5.08s\tremaining: 0us\n",
      "\n",
      "bestTest = 1.792214185\n",
      "bestIteration = 0\n",
      "\n"
     ]
    },
    {
     "data": {
      "text/plain": [
       "<catboost.core.CatBoostClassifier at 0x7f8eaa80e090>"
      ]
     },
     "execution_count": 71,
     "metadata": {},
     "output_type": "execute_result"
    }
   ],
   "source": [
    "model.fit(X,y,eval_set=(val,y_val))"
   ]
  },
  {
   "cell_type": "code",
   "execution_count": null,
   "metadata": {
    "id": "HfqCuXoH5vkh"
   },
   "outputs": [],
   "source": [
    "sub=pd.DataFrame(model.predict_proba(test))"
   ]
  },
  {
   "cell_type": "code",
   "execution_count": null,
   "metadata": {
    "id": "odqEsrge6K-L"
   },
   "outputs": [],
   "source": [
    "sub.columns=model.classes_"
   ]
  },
  {
   "cell_type": "code",
   "execution_count": null,
   "metadata": {
    "id": "TBt-QDBi6Vwp"
   },
   "outputs": [],
   "source": [
    "sub[\"ID\"]=ind"
   ]
  },
  {
   "cell_type": "code",
   "execution_count": null,
   "metadata": {
    "id": "Sagc-ObQ6r3u"
   },
   "outputs": [],
   "source": [
    "sub.set_index(\"ID\", inplace=True)"
   ]
  },
  {
   "cell_type": "code",
   "execution_count": null,
   "metadata": {
    "colab": {
     "base_uri": "https://localhost:8080/"
    },
    "id": "emFnqgg4610U",
    "outputId": "812f33c6-ce28-4f2d-9bd0-d0dce2d87574"
   },
   "outputs": [
    {
     "data": {
      "text/plain": [
       "Index(['Activated', 'Awaiting Activation', 'Awaiting Vehicle Pickup',\n",
       "       'Backlog', 'Checked In For Test', 'In Verification',\n",
       "       'Issued Guarantor Form', 'Onboarding', 'Received Guarantor Form',\n",
       "       'Test Scheduled', 'Tested', 'Top of the funnel'],\n",
       "      dtype='object')"
      ]
     },
     "execution_count": 76,
     "metadata": {},
     "output_type": "execute_result"
    }
   ],
   "source": [
    "sub.columns"
   ]
  },
  {
   "cell_type": "code",
   "execution_count": null,
   "metadata": {
    "colab": {
     "base_uri": "https://localhost:8080/"
    },
    "id": "mZAWXvUP6pd4",
    "outputId": "ff53d589-780a-4c8f-f3d3-f9d05de7ac51"
   },
   "outputs": [
    {
     "data": {
      "text/plain": [
       "1.7922141850472624"
      ]
     },
     "execution_count": 77,
     "metadata": {},
     "output_type": "execute_result"
    }
   ],
   "source": [
    "log_loss(y_val,model.predict_proba(val),labels=tar)"
   ]
  },
  {
   "cell_type": "code",
   "execution_count": null,
   "metadata": {
    "colab": {
     "base_uri": "https://localhost:8080/"
    },
    "id": "KBeZXmDjq-yO",
    "outputId": "50459dee-4c98-4367-c4e7-9cea8ee48610"
   },
   "outputs": [
    {
     "data": {
      "text/plain": [
       "1.7922141850472624"
      ]
     },
     "execution_count": 43,
     "metadata": {},
     "output_type": "execute_result"
    }
   ],
   "source": [
    "log_loss(y_val,model.predict_proba(val),labels=tar)"
   ]
  },
  {
   "cell_type": "code",
   "execution_count": null,
   "metadata": {
    "colab": {
     "base_uri": "https://localhost:8080/",
     "height": 554
    },
    "id": "AQgYX1KCCHVc",
    "outputId": "27934b9d-adcf-4e6a-f2ea-61b325713eea"
   },
   "outputs": [
    {
     "data": {
      "text/html": [
       "\n",
       "  <div id=\"df-3dfc8f53-3276-4b89-98cc-8140126e2fd7\">\n",
       "    <div class=\"colab-df-container\">\n",
       "      <div>\n",
       "<style scoped>\n",
       "    .dataframe tbody tr th:only-of-type {\n",
       "        vertical-align: middle;\n",
       "    }\n",
       "\n",
       "    .dataframe tbody tr th {\n",
       "        vertical-align: top;\n",
       "    }\n",
       "\n",
       "    .dataframe thead th {\n",
       "        text-align: right;\n",
       "    }\n",
       "</style>\n",
       "<table border=\"1\" class=\"dataframe\">\n",
       "  <thead>\n",
       "    <tr style=\"text-align: right;\">\n",
       "      <th></th>\n",
       "      <th>Activated</th>\n",
       "      <th>Awaiting Activation</th>\n",
       "      <th>Awaiting Vehicle Pickup</th>\n",
       "      <th>Backlog</th>\n",
       "      <th>Checked In For Test</th>\n",
       "      <th>In Verification</th>\n",
       "      <th>Issued Guarantor Form</th>\n",
       "      <th>Onboarding</th>\n",
       "      <th>Received Guarantor Form</th>\n",
       "      <th>Test Scheduled</th>\n",
       "      <th>Tested</th>\n",
       "      <th>Top of the funnel</th>\n",
       "    </tr>\n",
       "    <tr>\n",
       "      <th>ID</th>\n",
       "      <th></th>\n",
       "      <th></th>\n",
       "      <th></th>\n",
       "      <th></th>\n",
       "      <th></th>\n",
       "      <th></th>\n",
       "      <th></th>\n",
       "      <th></th>\n",
       "      <th></th>\n",
       "      <th></th>\n",
       "      <th></th>\n",
       "      <th></th>\n",
       "    </tr>\n",
       "  </thead>\n",
       "  <tbody>\n",
       "    <tr>\n",
       "      <th>ID_04I3F51N</th>\n",
       "      <td>0.078807</td>\n",
       "      <td>0.058626</td>\n",
       "      <td>0.112716</td>\n",
       "      <td>0.048874</td>\n",
       "      <td>0.107989</td>\n",
       "      <td>0.067705</td>\n",
       "      <td>0.094984</td>\n",
       "      <td>0.067188</td>\n",
       "      <td>0.066380</td>\n",
       "      <td>0.105947</td>\n",
       "      <td>0.082651</td>\n",
       "      <td>0.108133</td>\n",
       "    </tr>\n",
       "    <tr>\n",
       "      <th>ID_RL7OZ03G</th>\n",
       "      <td>0.078807</td>\n",
       "      <td>0.058626</td>\n",
       "      <td>0.112716</td>\n",
       "      <td>0.048874</td>\n",
       "      <td>0.107989</td>\n",
       "      <td>0.067705</td>\n",
       "      <td>0.094984</td>\n",
       "      <td>0.067188</td>\n",
       "      <td>0.066380</td>\n",
       "      <td>0.105947</td>\n",
       "      <td>0.082651</td>\n",
       "      <td>0.108133</td>\n",
       "    </tr>\n",
       "    <tr>\n",
       "      <th>ID_880UB1KT</th>\n",
       "      <td>0.078807</td>\n",
       "      <td>0.058626</td>\n",
       "      <td>0.112716</td>\n",
       "      <td>0.048874</td>\n",
       "      <td>0.107989</td>\n",
       "      <td>0.067705</td>\n",
       "      <td>0.094984</td>\n",
       "      <td>0.067188</td>\n",
       "      <td>0.066380</td>\n",
       "      <td>0.105947</td>\n",
       "      <td>0.082651</td>\n",
       "      <td>0.108133</td>\n",
       "    </tr>\n",
       "    <tr>\n",
       "      <th>ID_P46W8LVS</th>\n",
       "      <td>0.039537</td>\n",
       "      <td>0.035844</td>\n",
       "      <td>0.038924</td>\n",
       "      <td>0.034214</td>\n",
       "      <td>0.062397</td>\n",
       "      <td>0.037105</td>\n",
       "      <td>0.046020</td>\n",
       "      <td>0.037055</td>\n",
       "      <td>0.037933</td>\n",
       "      <td>0.250694</td>\n",
       "      <td>0.043371</td>\n",
       "      <td>0.336907</td>\n",
       "    </tr>\n",
       "    <tr>\n",
       "      <th>ID_JHON927V</th>\n",
       "      <td>0.039537</td>\n",
       "      <td>0.035844</td>\n",
       "      <td>0.038924</td>\n",
       "      <td>0.034214</td>\n",
       "      <td>0.062397</td>\n",
       "      <td>0.037105</td>\n",
       "      <td>0.046020</td>\n",
       "      <td>0.037055</td>\n",
       "      <td>0.037933</td>\n",
       "      <td>0.250694</td>\n",
       "      <td>0.043371</td>\n",
       "      <td>0.336907</td>\n",
       "    </tr>\n",
       "    <tr>\n",
       "      <th>...</th>\n",
       "      <td>...</td>\n",
       "      <td>...</td>\n",
       "      <td>...</td>\n",
       "      <td>...</td>\n",
       "      <td>...</td>\n",
       "      <td>...</td>\n",
       "      <td>...</td>\n",
       "      <td>...</td>\n",
       "      <td>...</td>\n",
       "      <td>...</td>\n",
       "      <td>...</td>\n",
       "      <td>...</td>\n",
       "    </tr>\n",
       "    <tr>\n",
       "      <th>ID_Y52L9ECX</th>\n",
       "      <td>0.078807</td>\n",
       "      <td>0.058626</td>\n",
       "      <td>0.112716</td>\n",
       "      <td>0.048874</td>\n",
       "      <td>0.107989</td>\n",
       "      <td>0.067705</td>\n",
       "      <td>0.094984</td>\n",
       "      <td>0.067188</td>\n",
       "      <td>0.066380</td>\n",
       "      <td>0.105947</td>\n",
       "      <td>0.082651</td>\n",
       "      <td>0.108133</td>\n",
       "    </tr>\n",
       "    <tr>\n",
       "      <th>ID_HW1J30MC</th>\n",
       "      <td>0.039537</td>\n",
       "      <td>0.035844</td>\n",
       "      <td>0.038924</td>\n",
       "      <td>0.034214</td>\n",
       "      <td>0.062397</td>\n",
       "      <td>0.037105</td>\n",
       "      <td>0.046020</td>\n",
       "      <td>0.037055</td>\n",
       "      <td>0.037933</td>\n",
       "      <td>0.250694</td>\n",
       "      <td>0.043371</td>\n",
       "      <td>0.336907</td>\n",
       "    </tr>\n",
       "    <tr>\n",
       "      <th>ID_JUCRN3HX</th>\n",
       "      <td>0.032157</td>\n",
       "      <td>0.032157</td>\n",
       "      <td>0.032220</td>\n",
       "      <td>0.032157</td>\n",
       "      <td>0.032157</td>\n",
       "      <td>0.032157</td>\n",
       "      <td>0.193114</td>\n",
       "      <td>0.032157</td>\n",
       "      <td>0.211120</td>\n",
       "      <td>0.306286</td>\n",
       "      <td>0.032157</td>\n",
       "      <td>0.032157</td>\n",
       "    </tr>\n",
       "    <tr>\n",
       "      <th>ID_PFSCZIBQ</th>\n",
       "      <td>0.078807</td>\n",
       "      <td>0.058626</td>\n",
       "      <td>0.112716</td>\n",
       "      <td>0.048874</td>\n",
       "      <td>0.107989</td>\n",
       "      <td>0.067705</td>\n",
       "      <td>0.094984</td>\n",
       "      <td>0.067188</td>\n",
       "      <td>0.066380</td>\n",
       "      <td>0.105947</td>\n",
       "      <td>0.082651</td>\n",
       "      <td>0.108133</td>\n",
       "    </tr>\n",
       "    <tr>\n",
       "      <th>ID_KGMCG2X2</th>\n",
       "      <td>0.078807</td>\n",
       "      <td>0.058626</td>\n",
       "      <td>0.112716</td>\n",
       "      <td>0.048874</td>\n",
       "      <td>0.107989</td>\n",
       "      <td>0.067705</td>\n",
       "      <td>0.094984</td>\n",
       "      <td>0.067188</td>\n",
       "      <td>0.066380</td>\n",
       "      <td>0.105947</td>\n",
       "      <td>0.082651</td>\n",
       "      <td>0.108133</td>\n",
       "    </tr>\n",
       "  </tbody>\n",
       "</table>\n",
       "<p>92078 rows × 12 columns</p>\n",
       "</div>\n",
       "      <button class=\"colab-df-convert\" onclick=\"convertToInteractive('df-3dfc8f53-3276-4b89-98cc-8140126e2fd7')\"\n",
       "              title=\"Convert this dataframe to an interactive table.\"\n",
       "              style=\"display:none;\">\n",
       "        \n",
       "  <svg xmlns=\"http://www.w3.org/2000/svg\" height=\"24px\"viewBox=\"0 0 24 24\"\n",
       "       width=\"24px\">\n",
       "    <path d=\"M0 0h24v24H0V0z\" fill=\"none\"/>\n",
       "    <path d=\"M18.56 5.44l.94 2.06.94-2.06 2.06-.94-2.06-.94-.94-2.06-.94 2.06-2.06.94zm-11 1L8.5 8.5l.94-2.06 2.06-.94-2.06-.94L8.5 2.5l-.94 2.06-2.06.94zm10 10l.94 2.06.94-2.06 2.06-.94-2.06-.94-.94-2.06-.94 2.06-2.06.94z\"/><path d=\"M17.41 7.96l-1.37-1.37c-.4-.4-.92-.59-1.43-.59-.52 0-1.04.2-1.43.59L10.3 9.45l-7.72 7.72c-.78.78-.78 2.05 0 2.83L4 21.41c.39.39.9.59 1.41.59.51 0 1.02-.2 1.41-.59l7.78-7.78 2.81-2.81c.8-.78.8-2.07 0-2.86zM5.41 20L4 18.59l7.72-7.72 1.47 1.35L5.41 20z\"/>\n",
       "  </svg>\n",
       "      </button>\n",
       "      \n",
       "  <style>\n",
       "    .colab-df-container {\n",
       "      display:flex;\n",
       "      flex-wrap:wrap;\n",
       "      gap: 12px;\n",
       "    }\n",
       "\n",
       "    .colab-df-convert {\n",
       "      background-color: #E8F0FE;\n",
       "      border: none;\n",
       "      border-radius: 50%;\n",
       "      cursor: pointer;\n",
       "      display: none;\n",
       "      fill: #1967D2;\n",
       "      height: 32px;\n",
       "      padding: 0 0 0 0;\n",
       "      width: 32px;\n",
       "    }\n",
       "\n",
       "    .colab-df-convert:hover {\n",
       "      background-color: #E2EBFA;\n",
       "      box-shadow: 0px 1px 2px rgba(60, 64, 67, 0.3), 0px 1px 3px 1px rgba(60, 64, 67, 0.15);\n",
       "      fill: #174EA6;\n",
       "    }\n",
       "\n",
       "    [theme=dark] .colab-df-convert {\n",
       "      background-color: #3B4455;\n",
       "      fill: #D2E3FC;\n",
       "    }\n",
       "\n",
       "    [theme=dark] .colab-df-convert:hover {\n",
       "      background-color: #434B5C;\n",
       "      box-shadow: 0px 1px 3px 1px rgba(0, 0, 0, 0.15);\n",
       "      filter: drop-shadow(0px 1px 2px rgba(0, 0, 0, 0.3));\n",
       "      fill: #FFFFFF;\n",
       "    }\n",
       "  </style>\n",
       "\n",
       "      <script>\n",
       "        const buttonEl =\n",
       "          document.querySelector('#df-3dfc8f53-3276-4b89-98cc-8140126e2fd7 button.colab-df-convert');\n",
       "        buttonEl.style.display =\n",
       "          google.colab.kernel.accessAllowed ? 'block' : 'none';\n",
       "\n",
       "        async function convertToInteractive(key) {\n",
       "          const element = document.querySelector('#df-3dfc8f53-3276-4b89-98cc-8140126e2fd7');\n",
       "          const dataTable =\n",
       "            await google.colab.kernel.invokeFunction('convertToInteractive',\n",
       "                                                     [key], {});\n",
       "          if (!dataTable) return;\n",
       "\n",
       "          const docLinkHtml = 'Like what you see? Visit the ' +\n",
       "            '<a target=\"_blank\" href=https://colab.research.google.com/notebooks/data_table.ipynb>data table notebook</a>'\n",
       "            + ' to learn more about interactive tables.';\n",
       "          element.innerHTML = '';\n",
       "          dataTable['output_type'] = 'display_data';\n",
       "          await google.colab.output.renderOutput(dataTable, element);\n",
       "          const docLink = document.createElement('div');\n",
       "          docLink.innerHTML = docLinkHtml;\n",
       "          element.appendChild(docLink);\n",
       "        }\n",
       "      </script>\n",
       "    </div>\n",
       "  </div>\n",
       "  "
      ],
      "text/plain": [
       "             Activated  Awaiting Activation  Awaiting Vehicle Pickup  \\\n",
       "ID                                                                     \n",
       "ID_04I3F51N   0.078807             0.058626                 0.112716   \n",
       "ID_RL7OZ03G   0.078807             0.058626                 0.112716   \n",
       "ID_880UB1KT   0.078807             0.058626                 0.112716   \n",
       "ID_P46W8LVS   0.039537             0.035844                 0.038924   \n",
       "ID_JHON927V   0.039537             0.035844                 0.038924   \n",
       "...                ...                  ...                      ...   \n",
       "ID_Y52L9ECX   0.078807             0.058626                 0.112716   \n",
       "ID_HW1J30MC   0.039537             0.035844                 0.038924   \n",
       "ID_JUCRN3HX   0.032157             0.032157                 0.032220   \n",
       "ID_PFSCZIBQ   0.078807             0.058626                 0.112716   \n",
       "ID_KGMCG2X2   0.078807             0.058626                 0.112716   \n",
       "\n",
       "              Backlog  Checked In For Test  In Verification  \\\n",
       "ID                                                            \n",
       "ID_04I3F51N  0.048874             0.107989         0.067705   \n",
       "ID_RL7OZ03G  0.048874             0.107989         0.067705   \n",
       "ID_880UB1KT  0.048874             0.107989         0.067705   \n",
       "ID_P46W8LVS  0.034214             0.062397         0.037105   \n",
       "ID_JHON927V  0.034214             0.062397         0.037105   \n",
       "...               ...                  ...              ...   \n",
       "ID_Y52L9ECX  0.048874             0.107989         0.067705   \n",
       "ID_HW1J30MC  0.034214             0.062397         0.037105   \n",
       "ID_JUCRN3HX  0.032157             0.032157         0.032157   \n",
       "ID_PFSCZIBQ  0.048874             0.107989         0.067705   \n",
       "ID_KGMCG2X2  0.048874             0.107989         0.067705   \n",
       "\n",
       "             Issued Guarantor Form  Onboarding  Received Guarantor Form  \\\n",
       "ID                                                                        \n",
       "ID_04I3F51N               0.094984    0.067188                 0.066380   \n",
       "ID_RL7OZ03G               0.094984    0.067188                 0.066380   \n",
       "ID_880UB1KT               0.094984    0.067188                 0.066380   \n",
       "ID_P46W8LVS               0.046020    0.037055                 0.037933   \n",
       "ID_JHON927V               0.046020    0.037055                 0.037933   \n",
       "...                            ...         ...                      ...   \n",
       "ID_Y52L9ECX               0.094984    0.067188                 0.066380   \n",
       "ID_HW1J30MC               0.046020    0.037055                 0.037933   \n",
       "ID_JUCRN3HX               0.193114    0.032157                 0.211120   \n",
       "ID_PFSCZIBQ               0.094984    0.067188                 0.066380   \n",
       "ID_KGMCG2X2               0.094984    0.067188                 0.066380   \n",
       "\n",
       "             Test Scheduled    Tested  Top of the funnel  \n",
       "ID                                                        \n",
       "ID_04I3F51N        0.105947  0.082651           0.108133  \n",
       "ID_RL7OZ03G        0.105947  0.082651           0.108133  \n",
       "ID_880UB1KT        0.105947  0.082651           0.108133  \n",
       "ID_P46W8LVS        0.250694  0.043371           0.336907  \n",
       "ID_JHON927V        0.250694  0.043371           0.336907  \n",
       "...                     ...       ...                ...  \n",
       "ID_Y52L9ECX        0.105947  0.082651           0.108133  \n",
       "ID_HW1J30MC        0.250694  0.043371           0.336907  \n",
       "ID_JUCRN3HX        0.306286  0.032157           0.032157  \n",
       "ID_PFSCZIBQ        0.105947  0.082651           0.108133  \n",
       "ID_KGMCG2X2        0.105947  0.082651           0.108133  \n",
       "\n",
       "[92078 rows x 12 columns]"
      ]
     },
     "execution_count": 78,
     "metadata": {},
     "output_type": "execute_result"
    }
   ],
   "source": [
    "sub"
   ]
  },
  {
   "cell_type": "code",
   "execution_count": null,
   "metadata": {
    "id": "D90r9CMV5iDO"
   },
   "outputs": [],
   "source": [
    "sub.to_csv(\"max1.csv\")"
   ]
  }
 ],
 "metadata": {
  "colab": {
   "collapsed_sections": [],
   "provenance": []
  },
  "kernelspec": {
   "display_name": "Python 3",
   "language": "python",
   "name": "python3"
  },
  "language_info": {
   "codemirror_mode": {
    "name": "ipython",
    "version": 3
   },
   "file_extension": ".py",
   "mimetype": "text/x-python",
   "name": "python",
   "nbconvert_exporter": "python",
   "pygments_lexer": "ipython3",
   "version": "3.8.8"
  }
 },
 "nbformat": 4,
 "nbformat_minor": 1
}
